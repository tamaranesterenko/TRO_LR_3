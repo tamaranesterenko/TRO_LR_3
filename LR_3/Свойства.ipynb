{
 "cells": [
  {
   "cell_type": "markdown",
   "id": "ad173f04",
   "metadata": {},
   "source": [
    "# Свойства матричных вычислений: "
   ]
  },
  {
   "cell_type": "markdown",
   "id": "22a4aef8",
   "metadata": {},
   "source": [
    "## Транспонирование"
   ]
  },
  {
   "cell_type": "code",
   "execution_count": 3,
   "id": "158e1f64",
   "metadata": {},
   "outputs": [
    {
     "name": "stdout",
     "output_type": "stream",
     "text": [
      "[[3 4]\n",
      " [3 4]\n",
      " [3 4]]\n"
     ]
    }
   ],
   "source": [
    "import numpy as np\n",
    "A = np.matrix('3 3 3; 4 4 4')\n",
    "print(A.T)"
   ]
  },
  {
   "cell_type": "markdown",
   "id": "55f97c66",
   "metadata": {},
   "source": [
    "Свойство 1. Транспонированная матрица равна исходнйо матрице."
   ]
  },
  {
   "cell_type": "code",
   "execution_count": 5,
   "id": "10188cce",
   "metadata": {},
   "outputs": [
    {
     "name": "stdout",
     "output_type": "stream",
     "text": [
      "[[3 3 3]\n",
      " [4 4 4]]\n"
     ]
    }
   ],
   "source": [
    "A = np.matrix('3 3 3; 4 4 4')\n",
    "E = (A.T).T\n",
    "print(E)"
   ]
  },
  {
   "cell_type": "markdown",
   "id": "f8558cb5",
   "metadata": {},
   "source": [
    "Свойство 2. Транспоринование суммы матриц равно сумме транспонированных матриц."
   ]
  },
  {
   "cell_type": "code",
   "execution_count": 10,
   "id": "56471445",
   "metadata": {},
   "outputs": [
    {
     "name": "stdout",
     "output_type": "stream",
     "text": [
      "Транспонирование суммы:\n",
      " [[ 9 10]\n",
      " [ 9  9]\n",
      " [ 9  8]]\n",
      "Сумма транспонированных матриц:\n",
      " [[ 9 10]\n",
      " [ 9  9]\n",
      " [ 9  8]]\n"
     ]
    }
   ],
   "source": [
    "A = np.matrix('8 7 6; 5 4 3')\n",
    "B = np.matrix('1 2 3; 5 5 5')\n",
    "L = (A + B).T\n",
    "R = A.T + B.T\n",
    "print(\"Транспонирование суммы:\\n\",L)\n",
    "print(\"Сумма транспонированных матриц:\\n\",R)"
   ]
  },
  {
   "cell_type": "markdown",
   "id": "983befd4",
   "metadata": {},
   "source": [
    "Свойство 3. Транспонирование произведения матриц равно произведению транспонированных матриц расставленных в обратном порядке."
   ]
  },
  {
   "cell_type": "code",
   "execution_count": 12,
   "id": "ccc020f0",
   "metadata": {},
   "outputs": [
    {
     "name": "stdout",
     "output_type": "stream",
     "text": [
      "Транспонирование произведения матриц:\n",
      " [[63 77]\n",
      " [58 74]]\n",
      "Произведение транспонированных матриц расставленных в обратном порядке:\n",
      " [[63 77]\n",
      " [58 74]]\n"
     ]
    }
   ],
   "source": [
    "A = np.matrix('7 2; 7 4')\n",
    "B = np.matrix('7 6; 7 8')\n",
    "L = (A.dot(B)).T\n",
    "R = (B.T).dot(A.T)\n",
    "print(\"Транспонирование произведения матриц:\\n\",L)\n",
    "print(\"Произведение транспонированных матриц расставленных в обратном порядке:\\n\",R)"
   ]
  },
  {
   "cell_type": "markdown",
   "id": "eedf2ef3",
   "metadata": {},
   "source": [
    "Свойство 4. Транспонирование произведения матрицы на число равно произведению этого числа на транспонированную матрицу."
   ]
  },
  {
   "cell_type": "code",
   "execution_count": 13,
   "id": "8c2a8efd",
   "metadata": {},
   "outputs": [
    {
     "name": "stdout",
     "output_type": "stream",
     "text": [
      "Транспонирование произведения матрицы на число:\n",
      " [[100 400]\n",
      " [200 500]\n",
      " [300 600]]\n",
      "Произведение этого числа на транспонированную матрицу:\n",
      " [[100 400]\n",
      " [200 500]\n",
      " [300 600]]\n"
     ]
    }
   ],
   "source": [
    "A = np.matrix('1 2 3; 4 5 6')\n",
    "k = 100\n",
    "L = (k * A).T\n",
    "R = k * (A.T)\n",
    "print(\"Транспонирование произведения матрицы на число:\\n\",L)\n",
    "print(\"Произведение этого числа на транспонированную матрицу:\\n\",R)"
   ]
  },
  {
   "cell_type": "markdown",
   "id": "ce82f31f",
   "metadata": {},
   "source": [
    "Свойство 5. Определители исходной и транспонированной матрицы совпадают."
   ]
  },
  {
   "cell_type": "code",
   "execution_count": 17,
   "id": "e117f565",
   "metadata": {
    "scrolled": true
   },
   "outputs": [
    {
     "name": "stdout",
     "output_type": "stream",
     "text": [
      "Определитель исходной матрицы: 604\n",
      "Определитель транспонированной матрицы: 604\n"
     ]
    }
   ],
   "source": [
    "A = np.matrix('88 100; 1 8')\n",
    "A_det = np.linalg.det(A)\n",
    "A_T_det = np.linalg.det(A.T)\n",
    "print(\"Определитель исходной матрицы:\",format(A_det, '.9g'))\n",
    "-2\n",
    "print(\"Определитель транспонированной матрицы:\",format(A_T_det, '.9g'))"
   ]
  },
  {
   "cell_type": "markdown",
   "id": "f458b5fa",
   "metadata": {},
   "source": [
    "## Умножение"
   ]
  },
  {
   "cell_type": "markdown",
   "id": "183ad220",
   "metadata": {},
   "source": [
    "Свойство 1. Произведение единицы и любой заданной матрицы равно заданной матрице."
   ]
  },
  {
   "cell_type": "code",
   "execution_count": 19,
   "id": "a789598a",
   "metadata": {},
   "outputs": [
    {
     "name": "stdout",
     "output_type": "stream",
     "text": [
      "Матрица умноженная на единицу:\n",
      " [[1 2]\n",
      " [3 4]]\n"
     ]
    }
   ],
   "source": [
    "A = np.matrix('1 2; 3 4')\n",
    "L = 1 * A\n",
    "print(\"Матрица умноженная на единицу:\\n\", L)"
   ]
  },
  {
   "cell_type": "markdown",
   "id": "45a13c39",
   "metadata": {},
   "source": [
    "Свойство 2. Произведение нуля и любой матрицы равно нулевой матрице, размерность которой равна исходной матрицы."
   ]
  },
  {
   "cell_type": "code",
   "execution_count": 20,
   "id": "0d092c91",
   "metadata": {},
   "outputs": [
    {
     "name": "stdout",
     "output_type": "stream",
     "text": [
      "Произведение матрицы на ноль:\n",
      " [[0 0]\n",
      " [0 0]]\n"
     ]
    }
   ],
   "source": [
    "A = np.matrix('1 2; 3 4')\n",
    "L = 0 * A\n",
    "print(\"Произведение матрицы на ноль:\\n\", L)"
   ]
  },
  {
   "cell_type": "markdown",
   "id": "7eb126d0",
   "metadata": {},
   "source": [
    "Свойство 3. Произведение матрицы на сумму чисел равно сумме произведений матрицы на каждое из этих чисел."
   ]
  },
  {
   "cell_type": "code",
   "execution_count": 21,
   "id": "9e0d4556",
   "metadata": {},
   "outputs": [
    {
     "name": "stdout",
     "output_type": "stream",
     "text": [
      "Произведение матрицы на сумму чисел:\n",
      " [[105 210]\n",
      " [105 210]]\n",
      "Сумма произведений матрицы на каждое из этих чисел:\n",
      " [[105 210]\n",
      " [105 210]]\n"
     ]
    }
   ],
   "source": [
    "A = np.matrix('1 2; 1 2')\n",
    "p = 100\n",
    "q = 5\n",
    "L = (p + q) * A\n",
    "R = p * A + q * A\n",
    "print(\"Произведение матрицы на сумму чисел:\\n\", L)\n",
    "print(\"Сумма произведений матрицы на каждое из этих чисел:\\n\", R)"
   ]
  },
  {
   "cell_type": "markdown",
   "id": "06102eb8",
   "metadata": {},
   "source": [
    "Свойство 4. Произведение матрицы на произведение двух чисел равно произведению второго числа и заданной матрицы, умноженному на первое число."
   ]
  },
  {
   "cell_type": "code",
   "execution_count": 22,
   "id": "206a3641",
   "metadata": {},
   "outputs": [
    {
     "name": "stdout",
     "output_type": "stream",
     "text": [
      "Произведение матрицы на произведение двух чисел:\n",
      " [[200 400]\n",
      " [200 400]]\n",
      "Произведение второго числа и заданной матрицы, умноженному на первое число:\n",
      " [[200 400]\n",
      " [200 400]]\n"
     ]
    }
   ],
   "source": [
    "A = np.matrix('1 2; 1 2')\n",
    "p = 2\n",
    "q = 100\n",
    "L = (p * q) * A \n",
    "R = p * (q * A)\n",
    "print(\"Произведение матрицы на произведение двух чисел:\\n\", L)\n",
    "print(\"Произведение второго числа и заданной матрицы, умноженному на первое число:\\n\", R)"
   ]
  },
  {
   "cell_type": "markdown",
   "id": "a4e41f4d",
   "metadata": {},
   "source": [
    "Свойство 5. Произведение суммы матриц на число равно сумме произведений этих матриц на заданное число."
   ]
  },
  {
   "cell_type": "code",
   "execution_count": 23,
   "id": "10c9d514",
   "metadata": {},
   "outputs": [
    {
     "name": "stdout",
     "output_type": "stream",
     "text": [
      "Произведение суммы матриц на число:\n",
      " [[400 600]\n",
      " [600 700]]\n",
      "Сумма произведений этих матриц на заданное число:\n",
      " [[400 600]\n",
      " [600 700]]\n"
     ]
    }
   ],
   "source": [
    "A = np.matrix('1 2; 1 2')\n",
    "B = np.matrix('3 4; 5 5')\n",
    "k = 100\n",
    "L = k * (A + B)\n",
    "R = k * A + k * B\n",
    "print(\"Произведение суммы матриц на число:\\n\", L)\n",
    "print(\"Сумма произведений этих матриц на заданное число:\\n\", R)"
   ]
  },
  {
   "cell_type": "markdown",
   "id": "c51c12d6",
   "metadata": {},
   "source": [
    "## Сложение"
   ]
  },
  {
   "cell_type": "markdown",
   "id": "47540333",
   "metadata": {},
   "source": [
    "Свойство 1. Коммутативность сложения. От перестановки матриц их сумма не изменяется."
   ]
  },
  {
   "cell_type": "code",
   "execution_count": 24,
   "id": "fbf292ae",
   "metadata": {},
   "outputs": [
    {
     "name": "stdout",
     "output_type": "stream",
     "text": [
      "Сумма А + В:\n",
      " [[1500 2600]\n",
      " [7300 8400]]\n",
      "Сумма В + А:\n",
      " [[1500 2600]\n",
      " [7300 8400]]\n"
     ]
    }
   ],
   "source": [
    "A = np.matrix('1000 2000; 300 400')\n",
    "B = np.matrix('500 600; 7000 8000')\n",
    "L = A + B\n",
    "R = B + A\n",
    "print(\"Сумма А + В:\\n\", L)\n",
    "print(\"Сумма В + А:\\n\", R)"
   ]
  },
  {
   "cell_type": "markdown",
   "id": "8c62df81",
   "metadata": {},
   "source": [
    "Свойство 2. Ассоциативность сложения. Результат сложения трех и более матриц не зависит от порядка, в котором эта операция будет выполняться."
   ]
  },
  {
   "cell_type": "code",
   "execution_count": 25,
   "id": "5c0bedbd",
   "metadata": {},
   "outputs": [
    {
     "name": "stdout",
     "output_type": "stream",
     "text": [
      "Сумма A + (B + C):\n",
      " [[6 6]\n",
      " [6 6]]\n",
      "Сумма (A + B) + C:\n",
      " [[6 6]\n",
      " [6 6]]\n"
     ]
    }
   ],
   "source": [
    "A = np.matrix('1 1; 1 1')\n",
    "B = np.matrix('2 2; 2 2')\n",
    "C = np.matrix('3 3; 3 3')\n",
    "L = A + (B + C)\n",
    "R = (A + B) + C\n",
    "print(\"Сумма A + (B + C):\\n\", L)\n",
    "print(\"Сумма (A + B) + C:\\n\", R)"
   ]
  },
  {
   "cell_type": "markdown",
   "id": "48b64204",
   "metadata": {},
   "source": [
    "Свойство 3. Для любой матрицы существует противоположная ей, такая, что их сумма является нулевой матрицей."
   ]
  },
  {
   "cell_type": "code",
   "execution_count": 27,
   "id": "982342b6",
   "metadata": {},
   "outputs": [
    {
     "name": "stdout",
     "output_type": "stream",
     "text": [
      "Нулевая матрица:\n",
      " [[0 0]\n",
      " [0 0]]\n"
     ]
    }
   ],
   "source": [
    "A = np.matrix('10000000 20000000; 30000000 40000000')\n",
    "L = A + (-1)*A\n",
    "print(\"Нулевая матрица:\\n\", L)"
   ]
  },
  {
   "cell_type": "markdown",
   "id": "afbf4b2a",
   "metadata": {},
   "source": [
    "## Умножение матриц"
   ]
  },
  {
   "cell_type": "markdown",
   "id": "55a51cf5",
   "metadata": {},
   "source": [
    "Свойство 1. Ассоциативность умножения. Результат умножения матриц не зависит от порядка, в котором будет выполняться эта операция."
   ]
  },
  {
   "cell_type": "code",
   "execution_count": 29,
   "id": "8e0dedb9",
   "metadata": {
    "scrolled": true
   },
   "outputs": [
    {
     "name": "stdout",
     "output_type": "stream",
     "text": [
      "Произведение A * (B * C):\n",
      " [[40 40]\n",
      " [40 40]]\n",
      "Произведение (A * B) * C:\n",
      " [[40 40]\n",
      " [40 40]]\n"
     ]
    }
   ],
   "source": [
    "A = np.matrix('1 1; 1 1')\n",
    "B = np.matrix('2 2; 2 2')\n",
    "C = np.matrix('5 5; 5 5')\n",
    "L = A.dot(B.dot(C))\n",
    "R = (A.dot(B)).dot(C)\n",
    "print(\"Произведение A * (B * C):\\n\", L)\n",
    "print(\"Произведение (A * B) * C:\\n\", R)"
   ]
  },
  {
   "cell_type": "markdown",
   "id": "95c0b979",
   "metadata": {},
   "source": [
    "Свойство 2. Дистрибутивность умножения. Произведение матрицы на сумму матриц равно сумме произведений матриц."
   ]
  },
  {
   "cell_type": "code",
   "execution_count": 31,
   "id": "dae840b5",
   "metadata": {},
   "outputs": [
    {
     "name": "stdout",
     "output_type": "stream",
     "text": [
      "Произведение A * (B + C):\n",
      " [[14 14]\n",
      " [14 14]]\n",
      "Произведение A * B + A * C:\n",
      " [[14 14]\n",
      " [14 14]]\n"
     ]
    }
   ],
   "source": [
    "A = np.matrix('1 1; 1 1')\n",
    "B = np.matrix('2 2; 2 2')\n",
    "C = np.matrix('5 5; 5 5')\n",
    "L = A.dot(B + C)\n",
    "R = A.dot(B) + A.dot(C)\n",
    "print(\"Произведение A * (B + C):\\n\", L)\n",
    "print(\"Произведение A * B + A * C:\\n\", R)"
   ]
  },
  {
   "cell_type": "markdown",
   "id": "f9e360f6",
   "metadata": {},
   "source": [
    "Свойство 3. Умножение матриц в общем виде не коммутативно. Это означает, что для матриц не выполняется правило независимости произведения от перестановки множителей."
   ]
  },
  {
   "cell_type": "code",
   "execution_count": 33,
   "id": "9709e75b",
   "metadata": {},
   "outputs": [
    {
     "name": "stdout",
     "output_type": "stream",
     "text": [
      "Произведение A * B:\n",
      " [[24 98]\n",
      " [82 32]]\n",
      "Произведение B * A:\n",
      " [[ 28  66]\n",
      " [122  28]]\n"
     ]
    }
   ],
   "source": [
    "A = np.matrix('1 8; 10 1')\n",
    "B = np.matrix('8 2; 2 12')\n",
    "L = A.dot(B)\n",
    "R = B.dot(A)\n",
    "print(\"Произведение A * B:\\n\", L)\n",
    "print(\"Произведение B * A:\\n\", R)"
   ]
  },
  {
   "cell_type": "markdown",
   "id": "4280c932",
   "metadata": {},
   "source": [
    "Свойство 4. Произведение заданной матрицы на единичную равно исходной матрице."
   ]
  },
  {
   "cell_type": "code",
   "execution_count": 34,
   "id": "649aeda5",
   "metadata": {},
   "outputs": [
    {
     "name": "stdout",
     "output_type": "stream",
     "text": [
      "Произведение заданной матрицы на единичную:\n",
      " [[1 2]\n",
      " [3 4]]\n",
      "Произведение единичной матрицы на заданную:\n",
      " [[1 2]\n",
      " [3 4]]\n",
      "Исходная матрица:\n",
      " [[1 2]\n",
      " [3 4]]\n"
     ]
    }
   ],
   "source": [
    "A = np.matrix('5 4; 1 8')\n",
    "E = np.matrix('1 0; 0 1')\n",
    "L = E.dot(A)\n",
    "R = A.dot(E)\n",
    "print(\"Произведение заданной матрицы на единичную:\\n\", L)\n",
    "print(\"Произведение единичной матрицы на заданную:\\n\", R)\n",
    "print(\"Исходная матрица:\\n\", A)"
   ]
  },
  {
   "cell_type": "markdown",
   "id": "e3181f19",
   "metadata": {},
   "source": [
    "Свойство 5. Произведение заданной матрицы на нулевую матрицу равно нулевой матрице."
   ]
  },
  {
   "cell_type": "code",
   "execution_count": 37,
   "id": "9fb4d05b",
   "metadata": {},
   "outputs": [
    {
     "name": "stdout",
     "output_type": "stream",
     "text": [
      "Произведение заданной матрицы на нулевую:\n",
      " [[0 0]\n",
      " [0 0]]\n",
      "Произведение нулевой матрицы на заданную:\n",
      " [[0 0]\n",
      " [0 0]]\n",
      "Исходная матрица:\n",
      " [[0 0]\n",
      " [0 0]]\n"
     ]
    }
   ],
   "source": [
    "A = np.matrix('5 4; 1 8')\n",
    "Z = np.matrix('0 0; 0 0')\n",
    "L = Z.dot(A)\n",
    "R = A.dot(Z)\n",
    "print(\"Произведение заданной матрицы на нулевую:\\n\", L)\n",
    "print(\"Произведение нулевой матрицы на заданную:\\n\", R)\n",
    "print(\"Исходная матрица:\\n\", Z)"
   ]
  },
  {
   "cell_type": "markdown",
   "id": "12459fcd",
   "metadata": {},
   "source": [
    "## Определитель матрицы"
   ]
  },
  {
   "cell_type": "markdown",
   "id": "72f3908a",
   "metadata": {},
   "source": [
    "Свойство 1. Определитель матрицы остается неизменным при ее транспонировании."
   ]
  },
  {
   "cell_type": "code",
   "execution_count": 42,
   "id": "fb677227",
   "metadata": {},
   "outputs": [
    {
     "name": "stdout",
     "output_type": "stream",
     "text": [
      "Опеределитель матрицы: -980.0\n",
      "Определитель транспонированной матрицы: -980.0\n"
     ]
    }
   ],
   "source": [
    "A = np.matrix('1 10 2; 10 2 -1; 5 8 11')\n",
    "R = A.T\n",
    "det_A = round(np.linalg.det(A), 3)\n",
    "det_R = round(np.linalg.det(R), 3)\n",
    "print(\"Опеределитель матрицы:\", det_A)\n",
    "print(\"Определитель транспонированной матрицы:\", det_R)"
   ]
  },
  {
   "cell_type": "markdown",
   "id": "851b7ab1",
   "metadata": {},
   "source": [
    "Свойство 2. Если у матрицы есть строка или столбец, состоящие из нулей, то определитель такой матрицы равен нулю."
   ]
  },
  {
   "cell_type": "code",
   "execution_count": 43,
   "id": "420a8593",
   "metadata": {},
   "outputs": [
    {
     "name": "stdout",
     "output_type": "stream",
     "text": [
      "Опеределитель матрицы: 0.0\n"
     ]
    }
   ],
   "source": [
    "A = np.matrix('1 10 2; 0 0 0; 5 8 11')\n",
    "print(\"Опеределитель матрицы:\", np.linalg.det(A))"
   ]
  },
  {
   "cell_type": "markdown",
   "id": "591e89c0",
   "metadata": {},
   "source": [
    "Свойство 3. При перестановке строк матрицы знак ее определителя меняется на противоположный."
   ]
  },
  {
   "cell_type": "code",
   "execution_count": 5,
   "id": "be31a5f8",
   "metadata": {},
   "outputs": [
    {
     "name": "stdout",
     "output_type": "stream",
     "text": [
      "Определитель матрицы А: -980.0\n",
      "Определитель матрицы В: 980.0\n"
     ]
    }
   ],
   "source": [
    "A = np.matrix('1 10 2; 10 2 -1; 5 8 11')\n",
    "B = np.matrix('10 2 -1; 1 10 2; 5 8 11')\n",
    "R = round(np.linalg.det(A), 3)\n",
    "L = round(np.linalg.det(B), 3)\n",
    "print(\"Определитель матрицы А:\", R)\n",
    "print(\"Определитель матрицы В:\", L)"
   ]
  },
  {
   "cell_type": "markdown",
   "id": "4c5ed8df",
   "metadata": {},
   "source": [
    "Свойство 4. Если у матрицы есть две одинаковые строки, то ее определитель равен нулю."
   ]
  },
  {
   "cell_type": "code",
   "execution_count": 46,
   "id": "5e853227",
   "metadata": {},
   "outputs": [
    {
     "name": "stdout",
     "output_type": "stream",
     "text": [
      "Определитель матрицы А: 0.0\n"
     ]
    }
   ],
   "source": [
    "A = np.matrix('1 10 2; 1 10 2; 5 8 11')\n",
    "R = round(np.linalg.det(A), 3)\n",
    "print(\"Определитель матрицы А:\", R)"
   ]
  },
  {
   "cell_type": "markdown",
   "id": "be351dcd",
   "metadata": {},
   "source": [
    "Свойство 5. Если все элементы строки или столбца матрицы умножить на какое-то число, то и определитель будет умножен на это число."
   ]
  },
  {
   "cell_type": "code",
   "execution_count": 7,
   "id": "a25eb0e8",
   "metadata": {},
   "outputs": [
    {
     "name": "stdout",
     "output_type": "stream",
     "text": [
      "Опеределитель матрицы: 1.0\n",
      "Определитель матрицы умноженной на число: 9800000.0\n"
     ]
    }
   ],
   "source": [
    "A = np.matrix('1 10 2; 1 11 2; 5 8 11')\n",
    "k = 100\n",
    "B[2, :] = k * B[2, :]\n",
    "det_A = round(np.linalg.det(A), 3)\n",
    "det_B = round(np.linalg.det(B), 3)\n",
    "print(\"Опеределитель матрицы:\", det_A)\n",
    "print(\"Определитель матрицы умноженной на число:\", det_B)"
   ]
  },
  {
   "cell_type": "markdown",
   "id": "1dfd09cd",
   "metadata": {},
   "source": [
    "Свойство 6. Если все элементы строки или столбца можно представить как сумму двух слагаемых, то определитель такой матрицы равен сумме определителей двух соответствующих матриц."
   ]
  },
  {
   "cell_type": "code",
   "execution_count": 60,
   "id": "10977c1f",
   "metadata": {},
   "outputs": [
    {
     "name": "stdout",
     "output_type": "stream",
     "text": [
      "Определитель матрицы C: 0.0\n",
      "Определитель суммы двух матриц: 0.0\n"
     ]
    }
   ],
   "source": [
    "A = np.matrix('-1 -1 3; -1 -1 3; 2 2 3')\n",
    "B = np.matrix('-1 -1 3; 2 2 7; 2 2 3')\n",
    "C = A.copy()\n",
    "C[1, :] += B[1, :]\n",
    "R = round(np.linalg.det(C), 3)\n",
    "L = round(np.linalg.det(A), 3) + round(np.linalg.det(B), 3)\n",
    "print(\"Определитель матрицы C:\", R)\n",
    "print(\"Определитель суммы двух матриц:\", L)"
   ]
  },
  {
   "cell_type": "markdown",
   "id": "071c5c2b",
   "metadata": {},
   "source": [
    "Свойство 7. Если к элементам одной строки прибавить элементы другой строки, умноженные на одно и тоже число, то определитель матрицы не изменится."
   ]
  },
  {
   "cell_type": "code",
   "execution_count": 67,
   "id": "e22f4ef2",
   "metadata": {},
   "outputs": [
    {
     "name": "stdout",
     "output_type": "stream",
     "text": [
      "Определитель матрицы A: -9.0\n",
      "Определитель матрицы B: -9.0\n"
     ]
    }
   ],
   "source": [
    "A = np.matrix('-1 -1 3; -1 0 3; 2 2 3')\n",
    "k = 100\n",
    "B = A.copy()\n",
    "B[1, :] = B[1, :] + k * B[0, :]\n",
    "R = round(np.linalg.det(A), 3)\n",
    "L = round(np.linalg.det(B), 3)\n",
    "print(\"Определитель матрицы A:\", R)\n",
    "print(\"Определитель матрицы B:\", L)"
   ]
  },
  {
   "cell_type": "markdown",
   "id": "846af279",
   "metadata": {},
   "source": [
    "Свойство 8. Если строка или столбец матрицы является линейной комбинацией других строк (столбцов), то определитель такой матрицы равен нулю."
   ]
  },
  {
   "cell_type": "code",
   "execution_count": 68,
   "id": "a0ec9c39",
   "metadata": {},
   "outputs": [
    {
     "name": "stdout",
     "output_type": "stream",
     "text": [
      "Определитель матрицы A: -0.0\n"
     ]
    }
   ],
   "source": [
    "A = np.matrix('-1 -1 3; -1 0 3; 2 2 3')\n",
    "k = 100\n",
    "A[1, :] = A[0, :] + k * A[2, :]\n",
    "R = round(np.linalg.det(A), 3)\n",
    "print(\"Определитель матрицы A:\", R)"
   ]
  },
  {
   "cell_type": "markdown",
   "id": "1ecc88ce",
   "metadata": {},
   "source": [
    "Свойство 9. Если матрица содержит пропорциональные строки, то ее определитель равен нулю."
   ]
  },
  {
   "cell_type": "code",
   "execution_count": 70,
   "id": "50c3f56f",
   "metadata": {},
   "outputs": [
    {
     "name": "stdout",
     "output_type": "stream",
     "text": [
      "Определитель матрицы A: 0.0\n"
     ]
    }
   ],
   "source": [
    "A = np.matrix('-1 -1 3; -1 0 3; 2 2 3')\n",
    "k = 100\n",
    "A[1, :] = k * A[0, :]\n",
    "R = round(np.linalg.det(A), 3)\n",
    "print(\"Определитель матрицы A:\", R)"
   ]
  },
  {
   "cell_type": "markdown",
   "id": "6e640ae3",
   "metadata": {},
   "source": [
    "## Обратная матрица"
   ]
  },
  {
   "cell_type": "markdown",
   "id": "08f0ba66",
   "metadata": {},
   "source": [
    "Свойство 1. Обратная матрица обратной матрицы есть исходная матрица."
   ]
  },
  {
   "cell_type": "code",
   "execution_count": 72,
   "id": "7bf34f19",
   "metadata": {},
   "outputs": [
    {
     "name": "stdout",
     "output_type": "stream",
     "text": [
      "Определитель исходной матрицы:\n",
      " [[ 0.04597701  0.12643678]\n",
      " [-0.05747126  0.09195402]]\n",
      "Определитель обратной обратной матрицы A:\n",
      " [[  8. -11.]\n",
      " [  5.   4.]]\n"
     ]
    }
   ],
   "source": [
    "A = np.matrix('8. -11.; 5. 4.')\n",
    "A_inv = np.linalg.inv(A)\n",
    "A_inv_inv = np.linalg.inv(A_inv)\n",
    "print(\"Определитель исходной матрицы:\\n\", A_inv)\n",
    "print(\"Определитель обратной обратной матрицы A:\\n\", A_inv_inv)"
   ]
  },
  {
   "cell_type": "markdown",
   "id": "804e82e2",
   "metadata": {},
   "source": [
    "Свойство 2. Обратная матрица транспонированной матрицы равна транспонированной матрице от обратной матрицы."
   ]
  },
  {
   "cell_type": "code",
   "execution_count": 73,
   "id": "aa771641",
   "metadata": {},
   "outputs": [
    {
     "name": "stdout",
     "output_type": "stream",
     "text": [
      "Обратная матрица транспонированной матрицы:\n",
      " [[ 0.04597701 -0.05747126]\n",
      " [ 0.12643678  0.09195402]]\n",
      "Транспонированная матрица от обратной матрицы:\n",
      " [[ 0.04597701 -0.05747126]\n",
      " [ 0.12643678  0.09195402]]\n"
     ]
    }
   ],
   "source": [
    "A = np.matrix('8. -11.; 5. 4.')\n",
    "L = np.linalg.inv(A.T)\n",
    "R = (np.linalg.inv(A)).T\n",
    "print(\"Обратная матрица транспонированной матрицы:\\n\",L)\n",
    "print(\"Транспонированная матрица от обратной матрицы:\\n\", R)"
   ]
  },
  {
   "cell_type": "markdown",
   "id": "7a5bead2",
   "metadata": {},
   "source": [
    "Свойство 3. Обратная матрица произведения матриц равна произведению обратных матриц."
   ]
  },
  {
   "cell_type": "code",
   "execution_count": 75,
   "id": "2949d0fe",
   "metadata": {},
   "outputs": [
    {
     "name": "stdout",
     "output_type": "stream",
     "text": [
      "Обратная матрица произведения матриц:\n",
      " [[-0.00168666  0.00487256]\n",
      " [-0.01018241 -0.00762119]]\n",
      "Произведение обратных матриц:\n",
      " [[-0.00168666  0.00487256]\n",
      " [-0.01018241 -0.00762119]]\n"
     ]
    }
   ],
   "source": [
    "A = np.matrix('8. -11.; 5. 4.')\n",
    "B = np.matrix('15. -7.; 22. 2.')\n",
    "L = np.linalg.inv(A.dot(B))\n",
    "R = np.linalg.inv(B).dot(np.linalg.inv(A))\n",
    "print(\"Обратная матрица произведения матриц:\\n\",L)\n",
    "print(\"Произведение обратных матриц:\\n\", R)"
   ]
  }
 ],
 "metadata": {
  "kernelspec": {
   "display_name": "Python 3 (ipykernel)",
   "language": "python",
   "name": "python3"
  },
  "language_info": {
   "codemirror_mode": {
    "name": "ipython",
    "version": 3
   },
   "file_extension": ".py",
   "mimetype": "text/x-python",
   "name": "python",
   "nbconvert_exporter": "python",
   "pygments_lexer": "ipython3",
   "version": "3.9.7"
  }
 },
 "nbformat": 4,
 "nbformat_minor": 5
}

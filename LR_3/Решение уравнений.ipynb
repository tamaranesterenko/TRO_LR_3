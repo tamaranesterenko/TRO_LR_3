{
 "cells": [
  {
   "cell_type": "markdown",
   "id": "aeae368e",
   "metadata": {},
   "source": [
    "## Решение линейного уравнения матричным методом"
   ]
  },
  {
   "cell_type": "code",
   "execution_count": 23,
   "id": "eaa27dc6",
   "metadata": {},
   "outputs": [
    {
     "name": "stdout",
     "output_type": "stream",
     "text": [
      "x1 = [[7.5]]\n",
      "x2 = [[18.]]\n",
      "x3 = [[-36.5]]\n"
     ]
    }
   ],
   "source": [
    "import numpy as np\n",
    "A = np.matrix('8 1 2; 5 4 3; 8 5 4')\n",
    "B = np.matrix('5; 0; 4')\n",
    "if round(np.linalg.det(A), 3) != 0:\n",
    "    A_inv = np.linalg.inv(A)\n",
    "    R = A_inv.dot(B)\n",
    "    idx = 1\n",
    "    for elem in R:\n",
    "        print(f\"x{idx} = {elem}\")\n",
    "        idx += 1"
   ]
  },
  {
   "cell_type": "markdown",
   "id": "616d7434",
   "metadata": {},
   "source": [
    "##    Решение линейного уравнения методом Крамера"
   ]
  },
  {
   "cell_type": "code",
   "execution_count": 22,
   "id": "ad67952e",
   "metadata": {},
   "outputs": [
    {
     "name": "stdout",
     "output_type": "stream",
     "text": [
      "x1: 7.5 \n",
      "x2: 18.0 \n",
      "x3: -36.5\n"
     ]
    }
   ],
   "source": [
    "A = np.matrix('8 1 2; 5 4 3; 8 5 4')\n",
    "B = np.matrix('5; 0; 4')\n",
    "if round(np.linalg.det(A), 3) != 0:\n",
    "    C = A.copy()\n",
    "    C[:, 0] = B[:, 0]\n",
    "    x1 = round(np.linalg.det(C), 3) / round(np.linalg.det(A), 3)\n",
    "    D = A.copy()\n",
    "    D[:, 1] = B[:, 0]\n",
    "    x2 = round(np.linalg.det(D), 3) / round(np.linalg.det(A), 3)\n",
    "    F = A.copy()\n",
    "    F[:, 2] = B[:, 0]\n",
    "    x3 = round(np.linalg.det(F), 3) / round(np.linalg.det(A), 3)\n",
    "   \n",
    "    print(\"x1:\", x1, \"\\nx2:\", x2, \"\\nx3:\", x3)"
   ]
  }
 ],
 "metadata": {
  "kernelspec": {
   "display_name": "Python 3 (ipykernel)",
   "language": "python",
   "name": "python3"
  },
  "language_info": {
   "codemirror_mode": {
    "name": "ipython",
    "version": 3
   },
   "file_extension": ".py",
   "mimetype": "text/x-python",
   "name": "python",
   "nbconvert_exporter": "python",
   "pygments_lexer": "ipython3",
   "version": "3.9.7"
  }
 },
 "nbformat": 4,
 "nbformat_minor": 5
}
